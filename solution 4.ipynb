{
 "cells": [
  {
   "cell_type": "code",
   "execution_count": 1,
   "metadata": {
    "ExecuteTime": {
     "end_time": "2019-12-15T06:36:15.249155Z",
     "start_time": "2019-12-15T06:36:14.574841Z"
    }
   },
   "outputs": [],
   "source": [
    "import pandas as pd\n",
    "import numpy as np\n",
    "import matplotlib.pyplot as plt\n",
    "import matplotlib.gridspec as gridspec\n",
    "import os"
   ]
  },
  {
   "cell_type": "code",
   "execution_count": 2,
   "metadata": {
    "ExecuteTime": {
     "end_time": "2019-12-15T06:36:18.289554Z",
     "start_time": "2019-12-15T06:36:17.052160Z"
    }
   },
   "outputs": [],
   "source": [
    "from scipy.spatial import cKDTree\n",
    "from sklearn.neighbors import KDTree\n",
    "from sklearn.preprocessing import LabelEncoder, StandardScaler\n",
    "from sklearn.multioutput import MultiOutputRegressor as MOR\n",
    "from sklearn.model_selection import cross_val_score, cross_val_predict, KFold, GridSearchCV, RepeatedKFold, cross_validate\n",
    "from sklearn.metrics import make_scorer\n",
    "from sklearn.metrics import r2_score\n",
    "from sklearn.ensemble import RandomForestRegressor\n",
    "from sklearn.feature_selection import RFECV\n",
    "import xgboost as xgb\n",
    "import warnings\n",
    "from sklearn.cluster import KMeans, AffinityPropagation, MeanShift, SpectralClustering, AgglomerativeClustering,\\\n",
    "FeatureAgglomeration, Birch, OPTICS\n",
    "from sklearn.mixture import GaussianMixture\n",
    "from sklearn.decomposition import PCA\n",
    "from sklearn.neighbors import KNeighborsRegressor"
   ]
  },
  {
   "cell_type": "code",
   "execution_count": 3,
   "metadata": {
    "ExecuteTime": {
     "end_time": "2019-12-15T06:36:27.466337Z",
     "start_time": "2019-12-15T06:36:20.406355Z"
    }
   },
   "outputs": [],
   "source": [
    "path = 'filled.xlsx'\n",
    "\n",
    "df = pd.read_excel(path)"
   ]
  },
  {
   "cell_type": "code",
   "execution_count": 14,
   "metadata": {
    "ExecuteTime": {
     "end_time": "2019-12-15T06:44:05.514143Z",
     "start_time": "2019-12-15T06:44:04.595669Z"
    }
   },
   "outputs": [],
   "source": [
    "# Bokeh libraries\n",
    "from bokeh.io import output_file, output_notebook, save\n",
    "from bokeh.plotting import figure, show\n",
    "from bokeh.models import ColumnDataSource, Legend, BasicTicker, ColorBar, HoverTool, LinearColorMapper, PrintfTickFormatter, FactorRange\n",
    "from bokeh.layouts import row, column, gridplot\n",
    "from bokeh.models import ColumnDataSource, CDSView, GroupFilter\n",
    "from bokeh.models.widgets import Tabs, Panel\n",
    "from bokeh.palettes import Viridis256, Category20\n",
    "from bokeh.transform import transform\n",
    "import matplotlib.cm as cm\n",
    "import matplotlib as mpl"
   ]
  },
  {
   "cell_type": "code",
   "execution_count": 15,
   "metadata": {
    "ExecuteTime": {
     "end_time": "2019-12-15T06:44:05.538932Z",
     "start_time": "2019-12-15T06:44:05.517176Z"
    }
   },
   "outputs": [],
   "source": [
    " def heatmap(title,df,correlation_method,width,height):\n",
    "\n",
    "    # generate a pearson correaltion dataframe\n",
    "    corr = df.corr(method=correlation_method)\n",
    "    \n",
    "    # reshape the correlation dataframe\n",
    "    corr_re = pd.DataFrame({'correlation':corr.stack(),\n",
    "                            'pairs':[[x,y] for x in df.columns.to_list() for y in df.columns.to_list()]}).reset_index()\n",
    "    \n",
    "    #generate a source for Bokeh\n",
    "    source = ColumnDataSource(corr_re)\n",
    "    \n",
    "    mapper = LinearColorMapper(palette=Viridis256, low=corr_re.correlation.min(), high=corr_re.correlation.max())\n",
    "    \n",
    "    # define the tooltips\n",
    "    tooltips = [('pairs', '@pairs'),\n",
    "                ('correlation', '@correlation{0.3f}')]\n",
    "    \n",
    "    # extract the column names\n",
    "    corr_columns = corr.columns.tolist()\n",
    "    \n",
    "    # generate the figure\n",
    "    hm = figure(title=title, tooltips=tooltips, toolbar_location=\"above\",\n",
    "            x_range = corr_columns, y_range=corr_columns, plot_width=width, plot_height=height)\n",
    "    \n",
    "    hm.rect(x=\"level_0\", y=\"level_1\", width=1, height=1, source=source,\n",
    "            line_color=\"black\", line_alpha=0.3 ,fill_color=transform(\"correlation\",mapper))\n",
    "    \n",
    "    color_bar = ColorBar(color_mapper=mapper, location=(0, 0),\n",
    "                     ticker=BasicTicker(desired_num_ticks=10))\n",
    "    \n",
    "    hm.add_layout(color_bar, 'right')\n",
    "    hm.axis.axis_line_color = None\n",
    "    hm.axis.major_tick_line_color = None\n",
    "    hm.axis.major_label_text_font_size = \"7pt\"\n",
    "    hm.axis.major_label_standoff = 0\n",
    "    hm.xaxis.major_label_orientation = 1\n",
    "    \n",
    "    output_notebook()\n",
    "    show(hm)\n",
    "    \n",
    "    return hm"
   ]
  },
  {
   "cell_type": "code",
   "execution_count": 16,
   "metadata": {
    "ExecuteTime": {
     "end_time": "2019-12-15T06:44:07.575962Z",
     "start_time": "2019-12-15T06:44:07.564117Z"
    }
   },
   "outputs": [],
   "source": [
    "df_dropped = df.dropna(subset=['GAS_C1', 'OIL_PRPH'])"
   ]
  },
  {
   "cell_type": "code",
   "execution_count": 4,
   "metadata": {
    "ExecuteTime": {
     "end_time": "2019-12-15T06:36:29.316728Z",
     "start_time": "2019-12-15T06:36:29.308322Z"
    }
   },
   "outputs": [
    {
     "data": {
      "text/plain": [
       "Index(['X', 'Y', 'OBJECTID', 'FIELDNAME', 'FIELDAREA', 'ORGGRPNM', 'UNITNAME',\n",
       "       'UNITTYPCOD', 'UNITTYPDES', 'LOCATION', 'PERIODDATE', 'PERIODYRMN',\n",
       "       'PERIODMNTH', 'PERIODMNNM', 'PERIODYR', 'OILPRODMAS', 'OILPRODM3',\n",
       "       'OILPRDDENS', 'OILPRODMBD', 'DGASPRODMA', 'DGASPROKSM', 'DGASPROMMS',\n",
       "       'DGASPRODEN', 'AGASPRODMA', 'AGASPROMMS', 'AGASPROKSM', 'AGASPRODEN',\n",
       "       'GCONDMASS', 'GCONDVOL', 'GCONDMBD', 'GCONDDEN', 'INJWATMASS',\n",
       "       'INJWATVOL', 'INJWATMBD', 'WATPRODMAS', 'WATPRODVOL', 'WATPRODMBD',\n",
       "       'WELLREGNO', 'GAS_C1', 'GAS_C2', 'GAS_C3', 'GAS_IC4', 'GAS_NC4',\n",
       "       'GAS_IC5', 'GAS_NC5', 'Target depth (m)', 'OIL_PRPH', 'OIL_PR17',\n",
       "       'OIL_PH18', 'OIL_CPI', 'OIL_CPI_PH', 'OIL_CPI_SS', 'OIL_WAX', 'TOC',\n",
       "       'REV_TOTS1', 'REV_TOTS2', 'REV_TOTS3', 'REV_TMAX', 'H_INDEX', 'O_INDEX',\n",
       "       'P_INDEX'],\n",
       "      dtype='object')"
      ]
     },
     "execution_count": 4,
     "metadata": {},
     "output_type": "execute_result"
    }
   ],
   "source": [
    "df.columns"
   ]
  },
  {
   "cell_type": "code",
   "execution_count": 6,
   "metadata": {
    "ExecuteTime": {
     "end_time": "2019-12-15T06:37:42.382337Z",
     "start_time": "2019-12-15T06:37:42.064562Z"
    }
   },
   "outputs": [],
   "source": [
    "from SALib.sample import saltelli\n",
    "from SALib.analyze import sobol\n",
    "from SALib.sample import morris as morris_sampler\n",
    "from SALib.test_functions import Ishigami\n",
    "from SALib.analyze import morris as morris_analyzer"
   ]
  },
  {
   "cell_type": "code",
   "execution_count": 7,
   "metadata": {
    "ExecuteTime": {
     "end_time": "2019-12-15T06:37:42.913581Z",
     "start_time": "2019-12-15T06:37:42.903900Z"
    }
   },
   "outputs": [],
   "source": [
    "X = df_dropped[['X', 'Y', 'GAS_C1', 'GAS_C2', 'GAS_C3', 'GAS_IC4', 'GAS_NC4', 'GAS_IC5', 'GAS_NC5', \n",
    "       'OIL_PRPH', 'OIL_PR17','OIL_PH18', 'OIL_CPI', 'OIL_CPI_PH', 'OIL_CPI_SS', 'OIL_WAX']]\n",
    "y = df_dropped['OILPRODMAS']"
   ]
  },
  {
   "cell_type": "code",
   "execution_count": null,
   "metadata": {},
   "outputs": [],
   "source": []
  },
  {
   "cell_type": "code",
   "execution_count": 8,
   "metadata": {
    "ExecuteTime": {
     "end_time": "2019-12-15T06:37:43.533701Z",
     "start_time": "2019-12-15T06:37:43.511518Z"
    }
   },
   "outputs": [],
   "source": [
    "problem = {\n",
    "    'num_vars': X.shape[1],\n",
    "    'names': X.columns.to_list(),\n",
    "    'bounds': np.concatenate((np.min(X, axis = 0)[:, None], np.max(X, axis = 0)[:, None]), axis = 1)\n",
    "}"
   ]
  },
  {
   "cell_type": "code",
   "execution_count": 9,
   "metadata": {
    "ExecuteTime": {
     "end_time": "2019-12-15T06:37:49.712364Z",
     "start_time": "2019-12-15T06:37:44.620820Z"
    },
    "scrolled": false
   },
   "outputs": [
    {
     "name": "stderr",
     "output_type": "stream",
     "text": [
      "C:\\Users\\andrei.erofeev\\AppData\\Local\\Continuum\\anaconda3\\lib\\site-packages\\xgboost\\core.py:587: FutureWarning: Series.base is deprecated and will be removed in a future version\n",
      "  if getattr(data, 'base', None) is not None and \\\n",
      "C:\\Users\\andrei.erofeev\\AppData\\Local\\Continuum\\anaconda3\\lib\\site-packages\\xgboost\\core.py:588: FutureWarning: Series.base is deprecated and will be removed in a future version\n",
      "  data.base is not None and isinstance(data, np.ndarray) \\\n"
     ]
    },
    {
     "name": "stdout",
     "output_type": "stream",
     "text": [
      "[09:37:45] WARNING: C:/Jenkins/workspace/xgboost-win64_release_0.90/src/objective/regression_obj.cu:152: reg:linear is now deprecated in favor of reg:squarederror.\n"
     ]
    },
    {
     "data": {
      "image/png": "[encoded data removed]",
      "text/plain": [
       "<Figure size 1080x504 with 1 Axes>"
      ]
     },
     "metadata": {
      "needs_background": "light"
     },
     "output_type": "display_data"
    },
    {
     "data": {
      "image/png": "[encoded data removed]",
      "text/plain": [
       "<Figure size 1080x504 with 1 Axes>"
      ]
     },
     "metadata": {
      "needs_background": "light"
     },
     "output_type": "display_data"
    }
   ],
   "source": [
    "bar_width = 0.5\n",
    "param_values = saltelli.sample(problem, 1000)\n",
    "regr = xgb.XGBRegressor()\n",
    "regr.fit(X.values, y)\n",
    "Y_0 = regr.predict(param_values)\n",
    "Si_0 = sobol.analyze(problem, Y_0)\n",
    "plt.figure(figsize = (15, 7))\n",
    "y_pos = np.arange(len(X.columns))\n",
    "plt.barh(y_pos, Si_0[\"ST\"], bar_width, color = 'r', label = \"ST\")\n",
    "plt.yticks(y_pos, X.columns)\n",
    "plt.title('Sobol indeces', fontsize = 20)\n",
    "plt.legend()\n",
    "plt.grid(True)\n",
    "plt.savefig('sobol_gas_oil.png')\n",
    "plt.show()\n",
    "\n",
    "X_morris = morris_sampler.sample(problem, 1000)\n",
    "Y_0 = regr.predict(X_morris)\n",
    "Si_0 = morris_analyzer.analyze(problem, X_morris, np.float32(Y_0), conf_level=0.95, print_to_console=False)\n",
    "plt.figure(figsize = (15, 7))\n",
    "plt.barh(y_pos,  Si_0['mu_star'], bar_width, color = 'b', label = 'Mu_abs')\n",
    "plt.yticks(y_pos, X.columns)\n",
    "plt.title('Morris indeces', fontsize = 20)\n",
    "plt.grid(True)\n",
    "plt.legend()\n",
    "plt.savefig('morris_gas_oil.png')\n",
    "plt.show()"
   ]
  },
  {
   "cell_type": "code",
   "execution_count": 10,
   "metadata": {
    "ExecuteTime": {
     "end_time": "2019-12-15T06:38:11.902763Z",
     "start_time": "2019-12-15T06:38:11.279048Z"
    },
    "scrolled": true
   },
   "outputs": [
    {
     "name": "stdout",
     "output_type": "stream",
     "text": [
      "[09:38:11] WARNING: C:/Jenkins/workspace/xgboost-win64_release_0.90/src/objective/regression_obj.cu:152: reg:linear is now deprecated in favor of reg:squarederror.\n",
      "[09:38:11] WARNING: C:/Jenkins/workspace/xgboost-win64_release_0.90/src/objective/regression_obj.cu:152: reg:linear is now deprecated in favor of reg:squarederror.\n"
     ]
    },
    {
     "name": "stderr",
     "output_type": "stream",
     "text": [
      "C:\\Users\\andrei.erofeev\\AppData\\Local\\Continuum\\anaconda3\\lib\\site-packages\\xgboost\\core.py:587: FutureWarning: Series.base is deprecated and will be removed in a future version\n",
      "  if getattr(data, 'base', None) is not None and \\\n",
      "C:\\Users\\andrei.erofeev\\AppData\\Local\\Continuum\\anaconda3\\lib\\site-packages\\xgboost\\core.py:587: FutureWarning: Series.base is deprecated and will be removed in a future version\n",
      "  if getattr(data, 'base', None) is not None and \\\n"
     ]
    },
    {
     "name": "stdout",
     "output_type": "stream",
     "text": [
      "[09:38:11] WARNING: C:/Jenkins/workspace/xgboost-win64_release_0.90/src/objective/regression_obj.cu:152: reg:linear is now deprecated in favor of reg:squarederror.\n",
      "[09:38:11] WARNING: C:/Jenkins/workspace/xgboost-win64_release_0.90/src/objective/regression_obj.cu:152: reg:linear is now deprecated in favor of reg:squarederror.\n"
     ]
    },
    {
     "name": "stderr",
     "output_type": "stream",
     "text": [
      "C:\\Users\\andrei.erofeev\\AppData\\Local\\Continuum\\anaconda3\\lib\\site-packages\\xgboost\\core.py:587: FutureWarning: Series.base is deprecated and will be removed in a future version\n",
      "  if getattr(data, 'base', None) is not None and \\\n",
      "C:\\Users\\andrei.erofeev\\AppData\\Local\\Continuum\\anaconda3\\lib\\site-packages\\xgboost\\core.py:587: FutureWarning: Series.base is deprecated and will be removed in a future version\n",
      "  if getattr(data, 'base', None) is not None and \\\n"
     ]
    },
    {
     "name": "stdout",
     "output_type": "stream",
     "text": [
      "[09:38:11] WARNING: C:/Jenkins/workspace/xgboost-win64_release_0.90/src/objective/regression_obj.cu:152: reg:linear is now deprecated in favor of reg:squarederror.\n"
     ]
    },
    {
     "data": {
      "text/plain": [
       "-15.595315487649847"
      ]
     },
     "execution_count": 10,
     "metadata": {},
     "output_type": "execute_result"
    }
   ],
   "source": [
    "cross_val_score(xgb.XGBRegressor(n_estimators = 500), X, y, cv = 5).mean()"
   ]
  },
  {
   "cell_type": "code",
   "execution_count": null,
   "metadata": {},
   "outputs": [],
   "source": []
  },
  {
   "cell_type": "code",
   "execution_count": null,
   "metadata": {},
   "outputs": [],
   "source": []
  },
  {
   "cell_type": "code",
   "execution_count": null,
   "metadata": {},
   "outputs": [],
   "source": []
  },
  {
   "cell_type": "code",
   "execution_count": null,
   "metadata": {},
   "outputs": [],
   "source": []
  },
  {
   "cell_type": "code",
   "execution_count": 47,
   "metadata": {},
   "outputs": [],
   "source": [
    "df_dropped = df.dropna(subset=['GAS_C1'])"
   ]
  },
  {
   "cell_type": "code",
   "execution_count": 48,
   "metadata": {},
   "outputs": [],
   "source": [
    "X = df_dropped[['GAS_C1', 'GAS_C2', 'GAS_C3', 'GAS_IC4', 'GAS_NC4', 'GAS_IC5', 'GAS_NC5']]\n",
    "y = df_dropped['OILPRODMAS']"
   ]
  },
  {
   "cell_type": "code",
   "execution_count": 49,
   "metadata": {},
   "outputs": [],
   "source": [
    "problem = {\n",
    "    'num_vars': X.shape[1],\n",
    "    'names': X.columns.to_list(),\n",
    "    'bounds': np.concatenate((np.min(X, axis = 0)[:, None], np.max(X, axis = 0)[:, None]), axis = 1)\n",
    "}"
   ]
  },
  {
   "cell_type": "code",
   "execution_count": 50,
   "metadata": {
    "scrolled": false
   },
   "outputs": [
    {
     "name": "stdout",
     "output_type": "stream",
     "text": [
      "[03:14:15] WARNING: C:/Jenkins/workspace/xgboost-win64_release_0.90/src/objective/regression_obj.cu:152: reg:linear is now deprecated in favor of reg:squarederror.\n"
     ]
    },
    {
     "data": {
      "image/png": "[encoded data removed]",
      "text/plain": [
       "<Figure size 1080x504 with 1 Axes>"
      ]
     },
     "metadata": {
      "needs_background": "light"
     },
     "output_type": "display_data"
    },
    {
     "data": {
      "image/png": "[encoded data removed]",
      "text/plain": [
       "<Figure size 1080x504 with 1 Axes>"
      ]
     },
     "metadata": {
      "needs_background": "light"
     },
     "output_type": "display_data"
    }
   ],
   "source": [
    "bar_width = 0.5\n",
    "param_values = saltelli.sample(problem, 1000)\n",
    "regr = xgb.XGBRegressor()\n",
    "regr.fit(X.values, y)\n",
    "Y_0 = regr.predict(param_values)\n",
    "Si_0 = sobol.analyze(problem, Y_0)\n",
    "plt.figure(figsize = (15, 7))\n",
    "y_pos = np.arange(len(X.columns))\n",
    "plt.barh(y_pos, Si_0[\"ST\"], bar_width, color = 'r', label = \"ST\")\n",
    "plt.yticks(y_pos, X.columns)\n",
    "plt.title('Sobol indeces for gas components', fontsize = 20)\n",
    "plt.legend()\n",
    "plt.grid(True)\n",
    "plt.savefig('sobol_gas.png')\n",
    "plt.show()\n",
    "\n",
    "X_morris = morris_sampler.sample(problem, 1000)\n",
    "Y_0 = regr.predict(X_morris)\n",
    "Si_0 = morris_analyzer.analyze(problem, X_morris, np.float32(Y_0), conf_level=0.95, print_to_console=False)\n",
    "plt.figure(figsize = (15, 7))\n",
    "plt.barh(y_pos,  Si_0['mu_star'], bar_width, color = 'b', label = 'Mu_abs')\n",
    "plt.yticks(y_pos, X.columns)\n",
    "plt.title('Morris indeces for gas components', fontsize = 20)\n",
    "plt.grid(True)\n",
    "plt.legend()\n",
    "plt.savefig('morris_gas.png')\n",
    "plt.show()"
   ]
  },
  {
   "cell_type": "code",
   "execution_count": null,
   "metadata": {},
   "outputs": [],
   "source": []
  },
  {
   "cell_type": "code",
   "execution_count": 51,
   "metadata": {},
   "outputs": [],
   "source": [
    "df_dropped = df.dropna(subset=['OIL_PRPH'])"
   ]
  },
  {
   "cell_type": "code",
   "execution_count": 52,
   "metadata": {},
   "outputs": [],
   "source": [
    "X = df_dropped[['OIL_PRPH', 'OIL_PR17','OIL_PH18', 'OIL_CPI', 'OIL_CPI_PH', 'OIL_CPI_SS', 'OIL_WAX']]\n",
    "y = df_dropped['OILPRODMAS']"
   ]
  },
  {
   "cell_type": "code",
   "execution_count": 53,
   "metadata": {},
   "outputs": [],
   "source": [
    "problem = {\n",
    "    'num_vars': X.shape[1],\n",
    "    'names': X.columns.to_list(),\n",
    "    'bounds': np.concatenate((np.min(X, axis = 0)[:, None], np.max(X, axis = 0)[:, None]), axis = 1)\n",
    "}"
   ]
  },
  {
   "cell_type": "code",
   "execution_count": 54,
   "metadata": {
    "scrolled": false
   },
   "outputs": [
    {
     "name": "stdout",
     "output_type": "stream",
     "text": [
      "[03:14:26] WARNING: C:/Jenkins/workspace/xgboost-win64_release_0.90/src/objective/regression_obj.cu:152: reg:linear is now deprecated in favor of reg:squarederror.\n"
     ]
    },
    {
     "data": {
      "image/png": "[encoded data removed]",
      "text/plain": [
       "<Figure size 1080x504 with 1 Axes>"
      ]
     },
     "metadata": {
      "needs_background": "light"
     },
     "output_type": "display_data"
    },
    {
     "data": {
      "image/png": "[encoded data removed]",
      "text/plain": [
       "<Figure size 1080x504 with 1 Axes>"
      ]
     },
     "metadata": {
      "needs_background": "light"
     },
     "output_type": "display_data"
    }
   ],
   "source": [
    "bar_width = 0.5\n",
    "param_values = saltelli.sample(problem, 1000)\n",
    "regr = xgb.XGBRegressor()\n",
    "regr.fit(X.values, y)\n",
    "Y_0 = regr.predict(param_values)\n",
    "Si_0 = sobol.analyze(problem, Y_0)\n",
    "plt.figure(figsize = (15, 7))\n",
    "y_pos = np.arange(len(X.columns))\n",
    "plt.barh(y_pos, Si_0[\"ST\"], bar_width, color = 'r', label = \"ST\")\n",
    "plt.yticks(y_pos, X.columns)\n",
    "plt.title('Sobol indeces for oil components', fontsize = 20)\n",
    "plt.legend()\n",
    "plt.grid(True)\n",
    "plt.savefig('sobol_oil.png')\n",
    "plt.show()\n",
    "\n",
    "X_morris = morris_sampler.sample(problem, 1000)\n",
    "Y_0 = regr.predict(X_morris)\n",
    "Si_0 = morris_analyzer.analyze(problem, X_morris, np.float32(Y_0), conf_level=0.95, print_to_console=False)\n",
    "plt.figure(figsize = (15, 7))\n",
    "plt.barh(y_pos,  Si_0['mu_star'], bar_width, color = 'b', label = 'Mu_abs')\n",
    "plt.yticks(y_pos, X.columns)\n",
    "plt.title('Morris indeces for oil components', fontsize = 20)\n",
    "plt.grid(True)\n",
    "plt.legend()\n",
    "plt.savefig('morris_oil.png')\n",
    "plt.show()"
   ]
  },
  {
   "cell_type": "code",
   "execution_count": null,
   "metadata": {},
   "outputs": [],
   "source": []
  },
  {
   "cell_type": "code",
   "execution_count": 63,
   "metadata": {},
   "outputs": [],
   "source": [
    "df_dropped = df.dropna(subset=['GAS_C1', 'TOC'])"
   ]
  },
  {
   "cell_type": "code",
   "execution_count": 64,
   "metadata": {},
   "outputs": [],
   "source": [
    "X = df_dropped[['GAS_C1', 'GAS_C2', 'GAS_C3', 'GAS_IC4', 'GAS_NC4', 'GAS_IC5', 'GAS_NC5', 'TOC']]\n",
    "y = df_dropped['OILPRODMAS']"
   ]
  },
  {
   "cell_type": "code",
   "execution_count": 65,
   "metadata": {},
   "outputs": [],
   "source": [
    "problem = {\n",
    "    'num_vars': X.shape[1],\n",
    "    'names': X.columns.to_list(),\n",
    "    'bounds': np.concatenate((np.min(X, axis = 0)[:, None], np.max(X, axis = 0)[:, None]), axis = 1)\n",
    "}"
   ]
  },
  {
   "cell_type": "code",
   "execution_count": 66,
   "metadata": {
    "scrolled": false
   },
   "outputs": [
    {
     "name": "stdout",
     "output_type": "stream",
     "text": [
      "[03:15:28] WARNING: C:/Jenkins/workspace/xgboost-win64_release_0.90/src/objective/regression_obj.cu:152: reg:linear is now deprecated in favor of reg:squarederror.\n"
     ]
    },
    {
     "data": {
      "image/png": "[encoded data removed]",
      "text/plain": [
       "<Figure size 1080x504 with 1 Axes>"
      ]
     },
     "metadata": {
      "needs_background": "light"
     },
     "output_type": "display_data"
    },
    {
     "data": {
      "image/png": "[encoded data removed]",
      "text/plain": [
       "<Figure size 1080x504 with 1 Axes>"
      ]
     },
     "metadata": {
      "needs_background": "light"
     },
     "output_type": "display_data"
    }
   ],
   "source": [
    "bar_width = 0.5\n",
    "param_values = saltelli.sample(problem, 1000)\n",
    "regr = xgb.XGBRegressor()\n",
    "regr.fit(X.values, y)\n",
    "Y_0 = regr.predict(param_values)\n",
    "Si_0 = sobol.analyze(problem, Y_0)\n",
    "plt.figure(figsize = (15, 7))\n",
    "y_pos = np.arange(len(X.columns))\n",
    "plt.barh(y_pos, Si_0[\"ST\"], bar_width, color = 'r', label = \"ST\")\n",
    "plt.yticks(y_pos, X.columns)\n",
    "plt.title('Sobol indeces for oil&TOC components', fontsize = 20)\n",
    "plt.legend()\n",
    "plt.grid(True)\n",
    "plt.savefig('sobol_gas&TOC.png')\n",
    "plt.show()\n",
    "\n",
    "X_morris = morris_sampler.sample(problem, 1000)\n",
    "Y_0 = regr.predict(X_morris)\n",
    "Si_0 = morris_analyzer.analyze(problem, X_morris, np.float32(Y_0), conf_level=0.95, print_to_console=False)\n",
    "plt.figure(figsize = (15, 7))\n",
    "plt.barh(y_pos,  Si_0['mu_star'], bar_width, color = 'b', label = 'Mu_abs')\n",
    "plt.yticks(y_pos, X.columns)\n",
    "plt.title('Morris indeces for oil&TOC components', fontsize = 20)\n",
    "plt.grid(True)\n",
    "plt.legend()\n",
    "plt.savefig('morris_gas&TOC.png')\n",
    "plt.show()"
   ]
  },
  {
   "cell_type": "code",
   "execution_count": null,
   "metadata": {},
   "outputs": [],
   "source": []
  },
  {
   "cell_type": "code",
   "execution_count": null,
   "metadata": {},
   "outputs": [],
   "source": []
  },
  {
   "cell_type": "code",
   "execution_count": null,
   "metadata": {},
   "outputs": [],
   "source": []
  },
  {
   "cell_type": "code",
   "execution_count": 18,
   "metadata": {
    "ExecuteTime": {
     "end_time": "2019-12-15T06:47:36.649646Z",
     "start_time": "2019-12-15T06:47:34.971485Z"
    }
   },
   "outputs": [],
   "source": [
    "import plotly.graph_objects as go\n",
    "import matplotlib.pyplot as plt\n",
    "from mpl_toolkits.mplot3d import Axes3D\n",
    "from matplotlib import cm\n",
    "from scipy.interpolate import interp2d"
   ]
  },
  {
   "cell_type": "code",
   "execution_count": 19,
   "metadata": {
    "ExecuteTime": {
     "end_time": "2019-12-15T06:47:37.440723Z",
     "start_time": "2019-12-15T06:47:37.426058Z"
    }
   },
   "outputs": [],
   "source": [
    "df_dropped = df.dropna(subset=['GAS_C1'])\n",
    "X = df_dropped[['X', 'Y', 'GAS_C1', 'GAS_C2', 'GAS_C3', 'GAS_IC4', 'GAS_NC4', 'GAS_IC5', 'GAS_NC5']]\n",
    "y = df_dropped['OILPRODMAS']"
   ]
  },
  {
   "cell_type": "code",
   "execution_count": 115,
   "metadata": {},
   "outputs": [
    {
     "data": {
      "text/plain": [
       "('1988-04-15T00:00:00.000Z', '2016-10-15T00:00:00.000Z')"
      ]
     },
     "execution_count": 115,
     "metadata": {},
     "output_type": "execute_result"
    }
   ],
   "source": [
    "df_dropped['PERIODDATE'].min(), df_dropped['PERIODDATE'].max()"
   ]
  },
  {
   "cell_type": "code",
   "execution_count": 21,
   "metadata": {
    "ExecuteTime": {
     "end_time": "2019-12-15T06:47:49.440249Z",
     "start_time": "2019-12-15T06:47:49.435257Z"
    }
   },
   "outputs": [],
   "source": [
    "from ipywidgets import interact\n",
    "import ipywidgets as widgets\n",
    "import scipy"
   ]
  },
  {
   "cell_type": "code",
   "execution_count": 67,
   "metadata": {
    "ExecuteTime": {
     "end_time": "2019-12-15T07:25:54.701020Z",
     "start_time": "2019-12-15T07:25:54.541350Z"
    }
   },
   "outputs": [],
   "source": [
    "def main(X, z):\n",
    "    x = X[:, 0].copy()\n",
    "    y = X[:, 1].copy()\n",
    "    a = z\n",
    "    xi, yi = np.mgrid[X[:, 0].min():X[:, 0].max():500j,\n",
    "                      X[:, 1].min():X[:, 1].max():500j]\n",
    "    \n",
    "    a_orig = normal_interp(x, y, a, xi, yi)\n",
    "\n",
    "    plot(x, y, a, a_orig, 'Gas C1')\n",
    "    plt.show()\n",
    "\n",
    "def normal_interp(x, y, a, xi, yi):\n",
    "    rbf = scipy.interpolate.Rbf(x, y, a)#, function = 'linear')\n",
    "    ai = rbf(xi, yi)\n",
    "    return ai\n",
    "\n",
    "def plot(x, y, a, ai, title):\n",
    "    fig, ax = plt.subplots(figsize=(15,15))\n",
    "    \n",
    "    \n",
    "    im = ax.imshow(ai.T, origin='lower',\n",
    "                   extent=[x.min(), x.max(), y.min(), y.max()])\n",
    "    ax.scatter(x, y, c=a)\n",
    "\n",
    "    ax.set(xlabel='X', ylabel='Y', title=title)\n",
    "    ax.set_xlim(min(x), max(x))\n",
    "    ax.set_ylim(min(y), max(y))\n",
    "    fig.colorbar(im)\n",
    "\n",
    "def visualize_2d_slices(XX):\n",
    "    timestep_widget = widgets.IntSlider(min=0, max=XX.shape[0]-1, step=1, value=0)\n",
    "\n",
    "    @interact(\n",
    "        timestep=timestep_widget\n",
    "    )\n",
    "    def plot_2d_slices(timestep):\n",
    "        print(XX[timestep-1][ :, -1])\n",
    "        main(XX[timestep-1][ :, :2], XX[timestep-1][ :, -1])"
   ]
  },
  {
   "cell_type": "code",
   "execution_count": 70,
   "metadata": {
    "ExecuteTime": {
     "end_time": "2019-12-15T07:28:53.861508Z",
     "start_time": "2019-12-15T07:28:53.852005Z"
    }
   },
   "outputs": [],
   "source": [
    "df_dropped = df.dropna(subset=['GAS_C1'])\n",
    "X = df_dropped[['X', 'Y', 'GAS_C1', 'GAS_C2', 'GAS_C3', 'GAS_IC4', 'GAS_NC4', 'GAS_IC5', 'GAS_NC5']]\n",
    "y = df_dropped['OILPRODMAS']"
   ]
  },
  {
   "cell_type": "code",
   "execution_count": 95,
   "metadata": {
    "ExecuteTime": {
     "end_time": "2019-12-15T07:38:41.221920Z",
     "start_time": "2019-12-15T07:38:41.210012Z"
    }
   },
   "outputs": [],
   "source": [
    "def main(X, z, interpolation):\n",
    "    x = X[:, 0].copy()\n",
    "    y = X[:, 1].copy()\n",
    "    a = z\n",
    "    xi, yi = np.mgrid[X[:, 0].min():X[:, 0].max():500j,\n",
    "                      X[:, 1].min():X[:, 1].max():500j]\n",
    "\n",
    "    a_orig = normal_interp(x, y, a, xi, yi, interpolation)\n",
    "\n",
    "    plot(x, y, a, a_orig, 'TOC')\n",
    "    plt.show()\n",
    "\n",
    "def normal_interp(x, y, a, xi, yi, interpolation):\n",
    "    rbf = scipy.interpolate.Rbf(x, y, a, function = interpolation)\n",
    "    ai = rbf(xi, yi)\n",
    "    return ai\n",
    "\n",
    "def plot(x, y, a, ai, title):\n",
    "    fig, ax = plt.subplots(figsize=(15,15))\n",
    "    \n",
    "    im = ax.imshow(ai.T, origin='lower',\n",
    "                   extent=[x.min(), x.max(), y.min(), y.max()])\n",
    "    ax.scatter(x, y, c=a)\n",
    "\n",
    "    ax.set(xlabel='X', ylabel='Y', title=title)\n",
    "    fig.colorbar(im)\n",
    "\n",
    "def visualize_2d_slices(XX):\n",
    "    timestep_widget = widgets.IntSlider(min=0, max=XX.shape[0]-1, step=1, value=0)\n",
    "    interpolation_widget = widgets.Dropdown(options=['multiquadric', 'inverse', 'gaussian',\n",
    "                                                     'linear', 'cubic', 'quintic', 'thin_plate'])\n",
    "\n",
    "    @interact(\n",
    "        interpolation=interpolation_widget,\n",
    "        timestep=timestep_widget\n",
    "    )\n",
    "    def plot_2d_slices(timestep, interpolation):\n",
    "        main(XX[timestep-1][ :, :2], XX[timestep-1][ :, -1], interpolation)"
   ]
  },
  {
   "cell_type": "code",
   "execution_count": 92,
   "metadata": {
    "ExecuteTime": {
     "end_time": "2019-12-15T07:35:26.596529Z",
     "start_time": "2019-12-15T07:35:26.566578Z"
    }
   },
   "outputs": [],
   "source": [
    "years = [2009, 2010, 2011, 2013, 2014]\n",
    "data_time = []\n",
    "\n",
    "for year in years:\n",
    "    data = df_dropped[df_dropped[\"PERIODYR\"] == year][['X', 'Y', 'GAS_C1']]\n",
    "    \n",
    "    data = data[~data.duplicated()]\n",
    "    aggregation_functions = {'X': 'first', 'Y': 'first', 'GAS_C1': 'mean'}\n",
    "    df_new = data.groupby(data['X']).aggregate(aggregation_functions)\n",
    "    data_time.append(df_new.values)"
   ]
  },
  {
   "cell_type": "code",
   "execution_count": 94,
   "metadata": {
    "ExecuteTime": {
     "end_time": "2019-12-15T07:35:33.513541Z",
     "start_time": "2019-12-15T07:35:33.056923Z"
    }
   },
   "outputs": [
    {
     "data": {
      "application/vnd.jupyter.widget-view+json": {
       "model_id": "443035e917e34168a05288715303b369",
       "version_major": 2,
       "version_minor": 0
      },
      "text/plain": [
       "interactive(children=(IntSlider(value=0, description='timestep', max=4), Dropdown(description='interpolation',…"
      ]
     },
     "metadata": {},
     "output_type": "display_data"
    }
   ],
   "source": [
    "visualize_2d_slices(np.array(data_time))"
   ]
  },
  {
   "cell_type": "code",
   "execution_count": 96,
   "metadata": {
    "ExecuteTime": {
     "end_time": "2019-12-15T07:39:05.296867Z",
     "start_time": "2019-12-15T07:39:05.288350Z"
    }
   },
   "outputs": [],
   "source": [
    "df_dropped = df.dropna(subset=['GAS_C1', 'TOC'])\n",
    "X = df_dropped[['X', 'Y', 'GAS_C1', 'GAS_C2', 'GAS_C3', 'GAS_IC4', 'GAS_NC4', 'GAS_IC5', 'GAS_NC5', 'TOC']]\n",
    "y = df_dropped['OILPRODMAS']"
   ]
  },
  {
   "cell_type": "code",
   "execution_count": 97,
   "metadata": {
    "ExecuteTime": {
     "end_time": "2019-12-15T07:39:19.086347Z",
     "start_time": "2019-12-15T07:39:19.056397Z"
    }
   },
   "outputs": [],
   "source": [
    "years = [2009, 2010, 2011, 2013, 2014]\n",
    "data_time = []\n",
    "\n",
    "for year in years:\n",
    "    data = df_dropped[df_dropped[\"PERIODYR\"] == year][['X', 'Y', 'TOC']]\n",
    "    \n",
    "    data = data[~data.duplicated()]\n",
    "    aggregation_functions = {'X': 'first', 'Y': 'first', 'TOC': 'mean'}\n",
    "    df_new = data.groupby(data['X']).aggregate(aggregation_functions)\n",
    "    data_time.append(df_new.values)"
   ]
  },
  {
   "cell_type": "code",
   "execution_count": 98,
   "metadata": {
    "ExecuteTime": {
     "end_time": "2019-12-15T07:39:20.651017Z",
     "start_time": "2019-12-15T07:39:20.186293Z"
    }
   },
   "outputs": [
    {
     "data": {
      "application/vnd.jupyter.widget-view+json": {
       "model_id": "64f23a985633458ab6a47850bcd553d2",
       "version_major": 2,
       "version_minor": 0
      },
      "text/plain": [
       "interactive(children=(IntSlider(value=0, description='timestep', max=4), Dropdown(description='interpolation',…"
      ]
     },
     "metadata": {},
     "output_type": "display_data"
    }
   ],
   "source": [
    "visualize_2d_slices(np.array(data_time))"
   ]
  },
  {
   "cell_type": "code",
   "execution_count": null,
   "metadata": {},
   "outputs": [],
   "source": []
  }
 ],
 "metadata": {
  "hide_input": false,
  "kernelspec": {
   "display_name": "Python 3",
   "language": "python",
   "name": "python3"
  },
  "language_info": {
   "codemirror_mode": {
    "name": "ipython",
    "version": 3
   },
   "file_extension": ".py",
   "mimetype": "text/x-python",
   "name": "python",
   "nbconvert_exporter": "python",
   "pygments_lexer": "ipython3",
   "version": "3.7.4"
  }
 },
 "nbformat": 4,
 "nbformat_minor": 2
}
