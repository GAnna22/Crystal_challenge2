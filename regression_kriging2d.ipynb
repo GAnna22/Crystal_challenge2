{
 "cells": [
  {
   "cell_type": "code",
   "execution_count": 1,
   "metadata": {},
   "outputs": [],
   "source": [
    "%matplotlib inline"
   ]
  },
  {
   "cell_type": "markdown",
   "metadata": {},
   "source": [
    "\n",
    "Regression kriging\n",
    "------------------\n",
    "\n",
    "An example of regression kriging\n"
   ]
  },
  {
   "cell_type": "code",
   "execution_count": 2,
   "metadata": {},
   "outputs": [
    {
     "name": "stderr",
     "output_type": "stream",
     "text": [
      "Downloading Cal. housing from https://ndownloader.figshare.com/files/5976036 to C:\\Users\\anna.gubanova\\scikit_learn_data\n"
     ]
    },
    {
     "name": "stdout",
     "output_type": "stream",
     "text": [
      "========================================\n",
      "regression model: SVR\n",
      "Finished learning regression model\n",
      "Finished kriging residuals\n",
      "Regression Score:  -0.03405385545698292\n",
      "RK score:  0.6619557666501965\n",
      "========================================\n",
      "regression model: RandomForestRegressor\n",
      "Finished learning regression model\n",
      "Finished kriging residuals\n",
      "Regression Score:  0.7000984739839095\n",
      "RK score:  0.7376975815039781\n",
      "========================================\n",
      "regression model: LinearRegression\n",
      "Finished learning regression model\n",
      "Finished kriging residuals\n",
      "Regression Score:  0.5277968398381672\n",
      "RK score:  0.6049089336167253\n"
     ]
    }
   ],
   "source": [
    "import sys\n",
    "\n",
    "from sklearn.svm import SVR\n",
    "from sklearn.ensemble import RandomForestRegressor\n",
    "from sklearn.linear_model import LinearRegression\n",
    "from sklearn.datasets import fetch_california_housing\n",
    "\n",
    "from pykrige.rk import RegressionKriging\n",
    "from pykrige.compat import train_test_split\n",
    "\n",
    "svr_model = SVR(C=0.1, gamma=\"auto\")\n",
    "rf_model = RandomForestRegressor(n_estimators=100)\n",
    "lr_model = LinearRegression(normalize=True, copy_X=True, fit_intercept=False)\n",
    "\n",
    "models = [svr_model, rf_model, lr_model]\n",
    "\n",
    "try:\n",
    "    housing = fetch_california_housing()\n",
    "except PermissionError:\n",
    "    # this dataset can occasionally fail to download on Windows\n",
    "    sys.exit(0)\n",
    "\n",
    "# take the first 5000 as Kriging is memory intensive\n",
    "p = housing['data'][:5000, :-2]\n",
    "x = housing['data'][:5000, -2:]\n",
    "target = housing['target'][:5000]\n",
    "\n",
    "p_train, p_test, x_train, x_test, target_train, target_test \\\n",
    "    = train_test_split(p, x, target, test_size=0.3, random_state=42)\n",
    "\n",
    "for m in models:\n",
    "    print('=' * 40)\n",
    "    print('regression model:', m.__class__.__name__)\n",
    "    m_rk = RegressionKriging(regression_model=m, n_closest_points=10)\n",
    "    m_rk.fit(p_train, x_train, target_train)\n",
    "    print('Regression Score: ', m_rk.regression_model.score(p_test, target_test))\n",
    "    print('RK score: ', m_rk.score(p_test, x_test, target_test))\n",
    "\n",
    "##====================================OUTPUT==================================\n",
    "\n",
    "# ========================================\n",
    "#  regression model: <class 'sklearn.svm.classes.SVR'>\n",
    "# Finished learning regression model\n",
    "# Finished kriging residuals\n",
    "# Regression Score:  -0.034053855457\n",
    "# RK score:  0.66195576665\n",
    "# ========================================\n",
    "#  regression model: <class 'sklearn.ensemble.forest.RandomForestRegressor'>\n",
    "# Finished learning regression model\n",
    "# Finished kriging residuals\n",
    "# Regression Score:  0.699771164651\n",
    "# RK score:  0.737574040386\n",
    "# ========================================\n",
    "#  regression model: <class 'sklearn.linear_model.base.LinearRegression'>\n",
    "# Finished learning regression model\n",
    "# Finished kriging residuals\n",
    "# Regression Score:  0.527796839838\n",
    "# RK score:  0.604908933617"
   ]
  },
  {
   "cell_type": "code",
   "execution_count": null,
   "metadata": {},
   "outputs": [],
   "source": []
  }
 ],
 "metadata": {
  "kernelspec": {
   "display_name": "Python 3",
   "language": "python",
   "name": "python3"
  },
  "language_info": {
   "codemirror_mode": {
    "name": "ipython",
    "version": 3
   },
   "file_extension": ".py",
   "mimetype": "text/x-python",
   "name": "python",
   "nbconvert_exporter": "python",
   "pygments_lexer": "ipython3",
   "version": "3.7.0"
  }
 },
 "nbformat": 4,
 "nbformat_minor": 1
}
