{
 "cells": [
  {
   "cell_type": "code",
   "execution_count": 11,
   "metadata": {
    "ExecuteTime": {
     "end_time": "2019-12-13T16:49:07.895398Z",
     "start_time": "2019-12-13T16:49:07.891373Z"
    }
   },
   "outputs": [],
   "source": [
    "import pandas as pd\n",
    "import numpy as np\n",
    "import matplotlib.pyplot as plt\n",
    "import matplotlib.gridspec as gridspec\n",
    "import os"
   ]
  },
  {
   "cell_type": "code",
   "execution_count": 12,
   "metadata": {
    "ExecuteTime": {
     "end_time": "2019-12-13T15:26:10.241374Z",
     "start_time": "2019-12-13T15:26:10.011988Z"
    }
   },
   "outputs": [],
   "source": [
    "path_gas_test = 'Geochemistry Data/CNS_gas_test.csv'\n",
    "path_gas_train = 'Geochemistry Data/CNS_gas_train.csv'\n",
    "path_rock_samples = 'Geochemistry Data/CNS rock samples.csv'\n",
    "path_rock_samples = 'Geochemistry Data/CNS oil.csv'\n",
    "path_production = 'Production Data/CNS_Field_Production.csv'\n",
    "df_test = pd.read_csv(path_gas_test, skiprows = [1], header = 0)\n",
    "df_train = pd.read_csv(path_gas_train, skiprows = [1], header = 0)\n",
    "df_rock = pd.read_csv(path_rock_samples, skiprows = [1], header = 0)\n",
    "df_oil = pd.read_csv(path_rock_samples, skiprows = [1], header = 0)\n",
    "df_production = pd.read_csv(path_production, header = 0)\n",
    "df_production = df_production.rename(columns={\"X\": \"WH_LONG\", \"Y\": \"WH_LAT\"})"
   ]
  },
  {
   "cell_type": "code",
   "execution_count": 13,
   "metadata": {},
   "outputs": [],
   "source": [
    "import datetime"
   ]
  },
  {
   "cell_type": "code",
   "execution_count": 14,
   "metadata": {},
   "outputs": [],
   "source": [
    "time_start = datetime.datetime(1970, 1, 1)"
   ]
  },
  {
   "cell_type": "code",
   "execution_count": 15,
   "metadata": {},
   "outputs": [],
   "source": [
    "df_train['WH_SPUD_DATE_upd'] = pd.to_datetime(df_train['WH_SPUD_DATE'], format='%d/%m/%Y %H:%M', errors='coerce')\n",
    "mask = df_train['WH_SPUD_DATE_upd'].isnull()\n",
    "df_train.loc[mask, 'WH_SPUD_DATE_upd'] = pd.to_datetime(df_train[mask]['WH_SPUD_DATE'],\n",
    "                                                        format='%d-%m-%y %H:%M', errors='coerce')\n",
    "df_train['WH_SPUD_DATE'] = (df_train['WH_SPUD_DATE_upd'] - time_start).dt.total_seconds()\n",
    "\n",
    "df_train['WH_COMP_DATE_upd'] = pd.to_datetime(df_train['WH_COMP_DATE'], format='%d/%m/%Y %H:%M', errors='coerce')\n",
    "mask = df_train['WH_COMP_DATE_upd'].isnull()\n",
    "df_train.loc[mask, 'WH_COMP_DATE_upd'] = pd.to_datetime(df_train[mask]['WH_COMP_DATE'],\n",
    "                                                        format='%d-%m-%y %H:%M', errors='coerce')\n",
    "df_train['WH_COMP_DATE'] = (df_train['WH_COMP_DATE_upd'] - time_start).dt.total_seconds()"
   ]
  },
  {
   "cell_type": "code",
   "execution_count": null,
   "metadata": {},
   "outputs": [],
   "source": [
    "df_train['SH_CDATE'] = pd.to_datetime(df_train['WH_COMP_DATE'], format='%d-%m-%y %H:%M')"
   ]
  },
  {
   "cell_type": "code",
   "execution_count": 16,
   "metadata": {},
   "outputs": [],
   "source": [
    "df_test['WH_SPUD_DATE'] = pd.to_datetime(df_test['WH_SPUD_DATE'], format='%m/%d/%Y %H:%M')\n",
    "df_test['WH_SPUD_DATE'] = (df_test['WH_SPUD_DATE'] - time_start).dt.total_seconds()\n",
    "df_test['WH_COMP_DATE'] = pd.to_datetime(df_test['WH_COMP_DATE'], format='%m/%d/%Y %H:%M')\n",
    "df_test['WH_COMP_DATE'] = (df_test['WH_COMP_DATE'] - time_start).dt.total_seconds()\n",
    "\n",
    "df_oil['WH_SPUD_DATE'] = pd.to_datetime(df_oil['WH_SPUD_DATE'], format='%b %d, %Y')\n",
    "df_oil['WH_SPUD_DATE'] = (df_oil['WH_SPUD_DATE'] - time_start).dt.total_seconds()\n",
    "df_oil['WH_COMP_DATE'] = pd.to_datetime(df_oil['WH_COMP_DATE'], format='%b %d, %Y')\n",
    "df_oil['WH_COMP_DATE'] = (df_oil['WH_COMP_DATE'] - time_start).dt.total_seconds()\n",
    "\n",
    "df_production['PERIODYRMN'] = pd.to_datetime(df_production['PERIODYRMN'], format='%Y%m')\n",
    "df_production['PERIODYRMN'] = (df_production['PERIODYRMN'] - time_start).dt.total_seconds()"
   ]
  },
  {
   "cell_type": "code",
   "execution_count": 134,
   "metadata": {},
   "outputs": [
    {
     "data": {
      "text/html": [
       "<div>\n",
       "<style scoped>\n",
       "    .dataframe tbody tr th:only-of-type {\n",
       "        vertical-align: middle;\n",
       "    }\n",
       "\n",
       "    .dataframe tbody tr th {\n",
       "        vertical-align: top;\n",
       "    }\n",
       "\n",
       "    .dataframe thead th {\n",
       "        text-align: right;\n",
       "    }\n",
       "</style>\n",
       "<table border=\"1\" class=\"dataframe\">\n",
       "  <thead>\n",
       "    <tr style=\"text-align: right;\">\n",
       "      <th></th>\n",
       "      <th></th>\n",
       "      <th>OILPRODMAS</th>\n",
       "      <th>AGASPRODMA</th>\n",
       "      <th>WATPRODMAS</th>\n",
       "    </tr>\n",
       "    <tr>\n",
       "      <th>WH_LONG</th>\n",
       "      <th>WH_LAT</th>\n",
       "      <th></th>\n",
       "      <th></th>\n",
       "      <th></th>\n",
       "    </tr>\n",
       "  </thead>\n",
       "  <tbody>\n",
       "    <tr>\n",
       "      <th>-3.076920</th>\n",
       "      <th>58.129036</th>\n",
       "      <td>14323.307292</td>\n",
       "      <td>786.903930</td>\n",
       "      <td>366886.312500</td>\n",
       "    </tr>\n",
       "    <tr>\n",
       "      <th>-1.702985</th>\n",
       "      <th>58.307721</th>\n",
       "      <td>183084.064746</td>\n",
       "      <td>5138.550049</td>\n",
       "      <td>812825.661654</td>\n",
       "    </tr>\n",
       "    <tr>\n",
       "      <th>-1.313677</th>\n",
       "      <th>58.204829</th>\n",
       "      <td>71683.815073</td>\n",
       "      <td>5432.693873</td>\n",
       "      <td>90624.206573</td>\n",
       "    </tr>\n",
       "    <tr>\n",
       "      <th>-1.092602</th>\n",
       "      <th>58.059807</th>\n",
       "      <td>NaN</td>\n",
       "      <td>NaN</td>\n",
       "      <td>0.000000</td>\n",
       "    </tr>\n",
       "    <tr>\n",
       "      <th>-0.946337</th>\n",
       "      <th>57.833115</th>\n",
       "      <td>656661.147856</td>\n",
       "      <td>29942.685765</td>\n",
       "      <td>297158.167785</td>\n",
       "    </tr>\n",
       "  </tbody>\n",
       "</table>\n",
       "</div>"
      ],
      "text/plain": [
       "                        OILPRODMAS    AGASPRODMA     WATPRODMAS\n",
       "WH_LONG   WH_LAT                                               \n",
       "-3.076920 58.129036   14323.307292    786.903930  366886.312500\n",
       "-1.702985 58.307721  183084.064746   5138.550049  812825.661654\n",
       "-1.313677 58.204829   71683.815073   5432.693873   90624.206573\n",
       "-1.092602 58.059807            NaN           NaN       0.000000\n",
       "-0.946337 57.833115  656661.147856  29942.685765  297158.167785"
      ]
     },
     "execution_count": 134,
     "metadata": {},
     "output_type": "execute_result"
    }
   ],
   "source": [
    "new_df = df_production.groupby(['WH_LONG', 'WH_LAT'])['OILPRODMAS', 'AGASPRODMA', 'WATPRODMAS'].mean()"
   ]
  },
  {
   "cell_type": "code",
   "execution_count": null,
   "metadata": {},
   "outputs": [],
   "source": []
  }
 ],
 "metadata": {
  "hide_input": false,
  "kernelspec": {
   "display_name": "Python 3",
   "language": "python",
   "name": "python3"
  },
  "language_info": {
   "codemirror_mode": {
    "name": "ipython",
    "version": 3
   },
   "file_extension": ".py",
   "mimetype": "text/x-python",
   "name": "python",
   "nbconvert_exporter": "python",
   "pygments_lexer": "ipython3",
   "version": "3.7.0"
  }
 },
 "nbformat": 4,
 "nbformat_minor": 2
}
