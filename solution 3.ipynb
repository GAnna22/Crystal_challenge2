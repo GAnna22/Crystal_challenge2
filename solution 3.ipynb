{
 "cells": [
  {
   "cell_type": "code",
   "execution_count": 29,
   "metadata": {
    "ExecuteTime": {
     "end_time": "2019-12-14T15:31:58.128658Z",
     "start_time": "2019-12-14T15:31:56.789678Z"
    }
   },
   "outputs": [],
   "source": [
    "import pandas as pd\n",
    "import numpy as np\n",
    "import matplotlib.pyplot as plt\n",
    "import matplotlib.gridspec as gridspec\n",
    "import os"
   ]
  },
  {
   "cell_type": "code",
   "execution_count": 30,
   "metadata": {
    "ExecuteTime": {
     "end_time": "2019-12-14T16:35:01.542244Z",
     "start_time": "2019-12-14T16:34:59.611269Z"
    }
   },
   "outputs": [],
   "source": [
    "from scipy.spatial import cKDTree\n",
    "from sklearn.neighbors import KDTree\n",
    "from sklearn.preprocessing import LabelEncoder, StandardScaler\n",
    "from sklearn.multioutput import MultiOutputRegressor as MOR\n",
    "from sklearn.model_selection import cross_val_score, cross_val_predict, KFold, GridSearchCV, RepeatedKFold, cross_validate\n",
    "from sklearn.metrics import make_scorer\n",
    "from sklearn.metrics import r2_score\n",
    "from sklearn.ensemble import RandomForestRegressor\n",
    "from sklearn.feature_selection import RFECV\n",
    "import xgboost as xgb\n",
    "import warnings\n",
    "from sklearn.cluster import KMeans, AffinityPropagation, MeanShift, SpectralClustering, AgglomerativeClustering,\\\n",
    "FeatureAgglomeration, Birch, OPTICS\n",
    "from sklearn.mixture import GaussianMixture\n",
    "from sklearn.decomposition import PCA\n",
    "from sklearn.neighbors import KNeighborsRegressor"
   ]
  },
  {
   "cell_type": "code",
   "execution_count": 31,
   "metadata": {
    "ExecuteTime": {
     "end_time": "2019-12-14T15:32:04.045041Z",
     "start_time": "2019-12-14T15:32:04.038581Z"
    }
   },
   "outputs": [],
   "source": [
    "def RMSE(y_true, y_pred):\n",
    "    'Normalized RMSE'\n",
    "    RMSE = np.sqrt(((y_true - y_pred) ** 2).sum() / (y_true ** 2).sum())\n",
    "    return RMSE"
   ]
  },
  {
   "cell_type": "code",
   "execution_count": 32,
   "metadata": {
    "ExecuteTime": {
     "end_time": "2019-12-14T15:32:10.175657Z",
     "start_time": "2019-12-14T15:32:10.158710Z"
    }
   },
   "outputs": [],
   "source": [
    "def plot(y_true, y_pred, border = 100):\n",
    "    fig = plt.figure(figsize=(18,12))\n",
    "    # set up subplot grid\n",
    "    gridspec.GridSpec(2,2)\n",
    "    \n",
    "    #Big subplot with diagonal plot\n",
    "    plt.subplot2grid((2,3), (0,0), colspan=2, rowspan=2)\n",
    "    plt.xlim(0, border)\n",
    "    plt.ylim(0, border)\n",
    "    plt.scatter(y_true, y_pred,  s = 10)\n",
    "    plt.plot([0, border], [0, border], c = 'red', alpha = 0.6)\n",
    "    plt.plot([0, border * 1/1.15], [0, border], color = 'black', alpha = 0.6, linewidth = 2, linestyle = '--')\n",
    "    plt.plot([0, border], [0, border * 0.85], color = 'black', alpha = 0.6, linewidth = 2, linestyle = '--')\n",
    "    plt.xlabel('True values', fontsize = 20)\n",
    "    plt.ylabel('Forecast values', fontsize = 20)\n",
    "    plt.tick_params(labelsize = 20)\n",
    "    plt.grid()"
   ]
  },
  {
   "cell_type": "code",
   "execution_count": 33,
   "metadata": {
    "ExecuteTime": {
     "end_time": "2019-12-14T15:32:21.387780Z",
     "start_time": "2019-12-14T15:32:21.372449Z"
    }
   },
   "outputs": [],
   "source": [
    "def CV_estimator_with_sigma(estimator, X, y):\n",
    "    cv = RepeatedKFold(n_splits=4, n_repeats=5, random_state=3)\n",
    "    scoring = {'r2': 'r2',\n",
    "               'mae': 'neg_mean_absolute_error',\n",
    "               'mse': 'neg_mean_squared_error',\n",
    "               'n-rmse': make_scorer(RMSE, greater_is_better=False)\n",
    "              } \n",
    "    scores = cross_validate(estimator, X, y, scoring=scoring, cv=cv, return_train_score=True)\n",
    "    print('Model gives R2: %.3f +- %.3f' % (scores['test_r2'].mean(), 2*scores['test_r2'].std()))\n",
    "    print('Model gives MAE: %.3f +- %.3f' % (abs(scores['test_mae']).mean(), 2*abs(scores['test_mae']).std()))\n",
    "    print('Model gives MSE: %.3f +- %.3f' % (abs(scores['test_mse']).mean(), 2*abs(scores['test_mse']).std()))\n",
    "    return scores"
   ]
  },
  {
   "cell_type": "code",
   "execution_count": 34,
   "metadata": {
    "ExecuteTime": {
     "end_time": "2019-12-14T15:32:37.196047Z",
     "start_time": "2019-12-14T15:32:37.186919Z"
    }
   },
   "outputs": [],
   "source": [
    "def optimal_params_search(estimator, params, X, y, scoring = 'r2'):\n",
    "    param_grid = {}\n",
    "    best_params = {}\n",
    "    for i, param in enumerate(params):\n",
    "        regr = estimator(**best_params)\n",
    "        g_search = GridSearchCV(regr, param_grid = param, scoring=scoring, n_jobs=-1, cv=5)\n",
    "        g_search.fit(X, y)\n",
    "        best_params.update(g_search.best_params_)\n",
    "    return best_params, g_search"
   ]
  },
  {
   "cell_type": "code",
   "execution_count": 35,
   "metadata": {
    "ExecuteTime": {
     "end_time": "2019-12-14T15:39:19.274382Z",
     "start_time": "2019-12-14T15:39:18.440948Z"
    }
   },
   "outputs": [
    {
     "name": "stderr",
     "output_type": "stream",
     "text": [
      "C:\\ProgramData\\Anaconda3\\lib\\site-packages\\IPython\\core\\interactiveshell.py:3058: DtypeWarning: Columns (0,1,2,3,4,5,8,9,15,17,20,21,22,23,24,25,27,28,29,30,31,32,33,34,36,42,43,44,46,47,48,56,57,58,92,93,99,100,101,102) have mixed types. Specify dtype option on import or set low_memory=False.\n",
      "  interactivity=interactivity, compiler=compiler, result=result)\n",
      "C:\\ProgramData\\Anaconda3\\lib\\site-packages\\pandas\\core\\indexing.py:205: SettingWithCopyWarning: \n",
      "A value is trying to be set on a copy of a slice from a DataFrame\n",
      "\n",
      "See the caveats in the documentation: http://pandas.pydata.org/pandas-docs/stable/user_guide/indexing.html#returning-a-view-versus-a-copy\n",
      "  self._setitem_with_indexer(indexer, value)\n"
     ]
    }
   ],
   "source": [
    "path_gas_test = 'Geochemistry Data/CNS_gas_test.csv'\n",
    "path_gas_train = 'Geochemistry Data/CNS_gas_train.csv'\n",
    "path_oil = 'Geochemistry Data/CNS oil.csv'\n",
    "path_rock_samples = 'Geochemistry Data/CNS rock samples.csv'\n",
    "path_production_samples = 'Production Data/CNS_Field_Production.csv'\n",
    "\n",
    "df_test = pd.read_csv(path_gas_test, skiprows = [1], header = 0)\n",
    "df_train = pd.read_csv(path_gas_train, skiprows = [1], header = 0)\n",
    "df_oil = pd.read_csv(path_oil, skiprows = [1], header = 0)\n",
    "df_rock = pd.read_csv(path_rock_samples, skiprows = [1], header = 0)\n",
    "df_prod = pd.read_csv(path_production_samples, skiprows = [1], header = 0)\n",
    "df_train['WH_LONG'].iloc[-5] = df_train['WH_LONG'].iloc[-4]\n",
    "df_train['WH_LONG'] = df_train['WH_LONG'].astype(float)"
   ]
  },
  {
   "cell_type": "code",
   "execution_count": 57,
   "metadata": {
    "ExecuteTime": {
     "end_time": "2019-12-14T17:11:22.148667Z",
     "start_time": "2019-12-14T17:11:22.105742Z"
    },
    "scrolled": true
   },
   "outputs": [],
   "source": [
    "coords_prod = df_prod[['X', 'Y']].drop_duplicates()\n",
    "coords_prod = coords_prod.drop_duplicates()[(coords_prod['X'] > -2) & (coords_prod['Y'] < 58.6)]\n",
    "coords_gas = df_train[['WH_LONG', 'WH_LAT']].drop_duplicates()\n",
    "coords_oil = df_oil[['WH_LONG', 'WH_LAT']].drop_duplicates()\n",
    "coords_rock = df_rock[['WH_LONG', 'WH_LAT']].drop_duplicates()\n",
    "\n",
    "coords_prod.dropna(inplace = True)\n",
    "coords_prod.reset_index(inplace = True, drop = True)\n",
    "coords_gas.dropna(inplace = True)\n",
    "coords_gas.reset_index(inplace = True, drop = True)\n",
    "coords_oil.dropna(inplace = True)\n",
    "coords_oil.reset_index(inplace = True, drop = True)\n",
    "coords_rock.dropna(inplace = True)\n",
    "coords_rock.reset_index(inplace = True, drop = True)"
   ]
  },
  {
   "cell_type": "code",
   "execution_count": 58,
   "metadata": {
    "ExecuteTime": {
     "end_time": "2019-12-14T17:11:25.694380Z",
     "start_time": "2019-12-14T17:11:25.686386Z"
    }
   },
   "outputs": [
    {
     "data": {
      "text/plain": [
       "(336, 2)"
      ]
     },
     "execution_count": 58,
     "metadata": {},
     "output_type": "execute_result"
    }
   ],
   "source": [
    "coords_rock.shape"
   ]
  },
  {
   "cell_type": "code",
   "execution_count": 69,
   "metadata": {
    "ExecuteTime": {
     "end_time": "2019-12-14T17:46:19.094122Z",
     "start_time": "2019-12-14T17:46:18.372949Z"
    },
    "scrolled": false
   },
   "outputs": [
    {
     "data": {
      "image/png": "[encoded data removed]",
      "text/plain": [
       "<Figure size 720x1080 with 1 Axes>"
      ]
     },
     "metadata": {
      "needs_background": "light"
     },
     "output_type": "display_data"
    }
   ],
   "source": [
    "plt.figure(figsize = (10, 15))\n",
    "df_train['WH_LONG'].iloc[-5] = df_train['WH_LONG'].iloc[-4]\n",
    "df_train['WH_LONG'] = df_train['WH_LONG'].astype(float)\n",
    "plt.scatter(coords_gas.iloc[:, 0], coords_gas.iloc[:, 1], color = 'black', label = 'gas')\n",
    "plt.scatter(coords_oil.iloc[:, 0], coords_oil.iloc[:, 1], color = 'red', marker = 's', label = 'oil')\n",
    "plt.scatter(coords_rock.iloc[:, 0], coords_rock.iloc[:, 1], color = 'blue', marker = 'x', label = 'rock')\n",
    "plt.scatter(coords_prod.iloc[:, 0], coords_prod.iloc[:, 1], color = 'green', marker = '^', label = 'production')\n",
    "plt.title('Coordinates', fontsize = 20)\n",
    "plt.xlabel('Longtitude', fontsize = 20)\n",
    "plt.ylabel('Latitude', fontsize = 20)\n",
    "plt.tick_params(labelsize = 20)\n",
    "plt.legend(fontsize = 16)\n",
    "plt.savefig('wells.png')\n",
    "plt.tight_layout()\n",
    "plt.show()"
   ]
  },
  {
   "cell_type": "code",
   "execution_count": 60,
   "metadata": {
    "ExecuteTime": {
     "end_time": "2019-12-14T17:32:39.024945Z",
     "start_time": "2019-12-14T17:32:39.012402Z"
    }
   },
   "outputs": [],
   "source": [
    "df_prod['GAS_C1'] = None\n",
    "df_prod['GAS_C2'] = None\n",
    "df_prod['GAS_C3'] = None\n",
    "df_prod['GAS_IC4'] = None\n",
    "df_prod['GAS_NC4'] = None\n",
    "df_prod['GAS_IC5'] = None\n",
    "df_prod['GAS_NC5'] = None\n",
    "df_prod['Target depth (m)'] = None"
   ]
  },
  {
   "cell_type": "code",
   "execution_count": 61,
   "metadata": {},
   "outputs": [],
   "source": [
    "df_prod['OIL_PRPH'] = None\n",
    "df_prod['OIL_PR17'] = None\n",
    "df_prod['OIL_PH18'] = None\n",
    "df_prod['OIL_CPI'] = None\n",
    "df_prod['OIL_CPI_PH'] = None\n",
    "df_prod['OIL_CPI_SS'] = None\n",
    "df_prod['OIL_WAX'] = None\n",
    "df_prod['Target depth (m)'] = None"
   ]
  },
  {
   "cell_type": "code",
   "execution_count": 87,
   "metadata": {
    "ExecuteTime": {
     "end_time": "2019-12-14T16:59:33.146279Z",
     "start_time": "2019-12-14T16:59:32.838073Z"
    }
   },
   "outputs": [],
   "source": [
    "tree_gas = KDTree(coords_gas, leaf_size=2)\n",
    "tree_oil = KDTree(coords_oil, leaf_size=2)\n",
    "tree_rock = KDTree(coords_rock, leaf_size=2)"
   ]
  },
  {
   "cell_type": "code",
   "execution_count": 116,
   "metadata": {},
   "outputs": [],
   "source": [
    "import datetime\n",
    "import calendar\n",
    "import warnings\n",
    "import tqdm\n",
    "def add_months(sourcedate, months):\n",
    "    month = sourcedate.month - 1 + months\n",
    "    year = sourcedate.year + month // 12\n",
    "    month = month % 12 + 1\n",
    "    day = min(sourcedate.day, calendar.monthrange(year,month)[1])\n",
    "    return datetime.date(year, month, day)"
   ]
  },
  {
   "cell_type": "code",
   "execution_count": 109,
   "metadata": {},
   "outputs": [],
   "source": [
    "warnings.simplefilter('ignore')"
   ]
  },
  {
   "cell_type": "code",
   "execution_count": 90,
   "metadata": {},
   "outputs": [],
   "source": [
    "df_train['SH_CDATE_upd'] = pd.to_datetime(df_train['SH_CDATE'], format='%d/%m/%Y %H:%M', errors='coerce')\n",
    "mask = df_train['SH_CDATE_upd'].isnull()\n",
    "df_train.loc[mask, 'SH_CDATE_upd'] = pd.to_datetime(df_train[mask]['SH_CDATE'],\n",
    "                                                        format='%d-%m-%y %H:%M', errors='coerce')\n",
    "df_train['SH_CDATE'] = df_train['SH_CDATE_upd']\n",
    "\n",
    "df_train['SH_CDATE_upd'] = pd.to_datetime(df_train['SH_CDATE'], format='%d/%m/%Y %H:%M', errors='coerce')\n",
    "mask = df_train['SH_CDATE_upd'].isnull()\n",
    "df_train.loc[mask, 'SH_CDATE_upd'] = pd.to_datetime(df_train[mask]['SH_CDATE'],\n",
    "                                                        format='%d-%m-%y %H:%M', errors='coerce')\n",
    "df_train['SH_CDATE'] = df_train['SH_CDATE_upd']"
   ]
  },
  {
   "cell_type": "code",
   "execution_count": 100,
   "metadata": {},
   "outputs": [],
   "source": [
    "df_train.dropna(subset=['SH_CDATE'], inplace = True)"
   ]
  },
  {
   "cell_type": "code",
   "execution_count": 101,
   "metadata": {},
   "outputs": [
    {
     "data": {
      "text/plain": [
       "(1411, 92)"
      ]
     },
     "execution_count": 101,
     "metadata": {},
     "output_type": "execute_result"
    }
   ],
   "source": [
    "df_train.shape"
   ]
  },
  {
   "cell_type": "code",
   "execution_count": 103,
   "metadata": {},
   "outputs": [
    {
     "data": {
      "text/plain": [
       "Timestamp('2018-01-27 00:00:00')"
      ]
     },
     "execution_count": 103,
     "metadata": {},
     "output_type": "execute_result"
    }
   ],
   "source": [
    "max(df_train['SH_CDATE'])"
   ]
  },
  {
   "cell_type": "code",
   "execution_count": 128,
   "metadata": {},
   "outputs": [],
   "source": [
    "df_prod = df_prod[df_prod['OILPRODMAS'] > 0]"
   ]
  },
  {
   "cell_type": "code",
   "execution_count": 118,
   "metadata": {},
   "outputs": [],
   "source": [
    "df_oil['SH_CDATE_upd'] = pd.to_datetime(df_oil['SH_CDATE'], format='%d-%b-%y', errors='coerce')\n",
    "mask = df_oil['SH_CDATE_upd'].isnull()\n",
    "df_oil.loc[mask, 'SH_CDATE_upd'] = pd.to_datetime(df_oil[mask]['SH_CDATE'],\n",
    "                                                        format='%b %d, %Y', errors='coerce')\n",
    "\n",
    "df_oil['SH_CDATE'] = df_oil['SH_CDATE_upd']"
   ]
  },
  {
   "cell_type": "code",
   "execution_count": 121,
   "metadata": {},
   "outputs": [],
   "source": [
    "df_oil['SH_CDATE'].dropna(inplace = True)"
   ]
  },
  {
   "cell_type": "code",
   "execution_count": 136,
   "metadata": {
    "ExecuteTime": {
     "end_time": "2019-12-14T17:00:14.344957Z",
     "start_time": "2019-12-14T17:00:14.336853Z"
    },
    "scrolled": true
   },
   "outputs": [
    {
     "data": {
      "application/vnd.jupyter.widget-view+json": {
       "model_id": "58b4f7f96346484b918d8b04547a62fd",
       "version_major": 2,
       "version_minor": 0
      },
      "text/plain": [
       "HBox(children=(IntProgress(value=0, max=10218), HTML(value='')))"
      ]
     },
     "metadata": {},
     "output_type": "display_data"
    },
    {
     "name": "stdout",
     "output_type": "stream",
     "text": [
      "\n"
     ]
    }
   ],
   "source": [
    "for i in tqdm.tqdm_notebook(range(260, df_prod.shape[0])):\n",
    "    coord = [df_prod[['X', 'Y']].iloc[i].values]\n",
    "    dists, inds = tree_gas.query(coord, k=10)\n",
    "\n",
    "    date = datetime.date(year = df_prod.iloc[i]['PERIODYR'],\n",
    "                        month = df_prod.iloc[i]['PERIODMNTH'], \n",
    "                        day = 15)  \n",
    "    before_date = add_months(date, -1)\n",
    "    after_date = add_months(date, 1)\n",
    "    \n",
    "    #print(before_date, after_date)\n",
    "    for col in ['GAS_C1', 'GAS_C2', 'GAS_C3', 'GAS_IC4', 'GAS_NC4', 'GAS_IC5', 'GAS_NC5']:\n",
    "        val = 0\n",
    "        counter = 0\n",
    "        for ind in inds[0]:\n",
    "            x_gas, y_gas = coords_gas['WH_LONG'].iloc[ind], coords_gas['WH_LAT'].iloc[ind]\n",
    "            val_curr = df_train[(df_train['WH_LONG'] == x_gas) & (df_train['WH_LAT'] == y_gas) & (\n",
    "                df_train['SH_CDATE'] > before_date) & ( df_train['SH_CDATE'] < after_date)][col]\n",
    "            #print(df_train[(df_train['WH_LONG'] == x_gas) & (df_train['WH_LAT'] == y_gas)]['SH_CDATE'])\n",
    "            if val_curr.shape[0] > 0:\n",
    "                val += val_curr.values.mean()\n",
    "                break\n",
    "            #if counter > 4:\n",
    "            #    val /= counter\n",
    "            #    break\n",
    "        #if counter > 0:\n",
    "        #    val /= counter\n",
    "        if val > 0: \n",
    "            df_prod[col].iloc[i] = val\n",
    "        if val > 100:\n",
    "            print(val)\n",
    "            \n",
    "    for col in ['OIL_PRPH', 'OIL_PR17', 'OIL_PH18', 'OIL_CPI', 'OIL_CPI_PH', 'OIL_CPI_SS', 'OIL_WAX']:\n",
    "        val = 0\n",
    "        counter = 0\n",
    "        for ind in inds[0]:\n",
    "            x_oil, y_oil = coords_oil['WH_LONG'].iloc[ind], coords_oil['WH_LAT'].iloc[ind]\n",
    "            val_curr = df_oil[(df_oil['WH_LONG'] == x_oil) & (df_oil['WH_LAT'] == y_oil) & (\n",
    "                df_oil['SH_CDATE'] > before_date) & (df_oil['SH_CDATE'] < after_date)][col]\n",
    "\n",
    "            #print(df_train[(df_train['WH_LONG'] == x_gas) & (df_train['WH_LAT'] == y_gas)]['SH_CDATE'])\n",
    "            if val_curr.shape[0] > 0:\n",
    "                val += val_curr.values.mean()\n",
    "                break\n",
    "            #if counter > 4:\n",
    "            #    val /= counter\n",
    "            #    break\n",
    "        #if counter > 0:\n",
    "        #    val /= counter\n",
    "        if val > 0: \n",
    "            df_prod[col].iloc[i] = val"
   ]
  },
  {
   "cell_type": "code",
   "execution_count": 122,
   "metadata": {},
   "outputs": [
    {
     "data": {
      "application/vnd.jupyter.widget-view+json": {
       "model_id": "e34ce5b9824049a394cf49cc0a37876c",
       "version_major": 2,
       "version_minor": 0
      },
      "text/plain": [
       "HBox(children=(IntProgress(value=0, max=12250), HTML(value='')))"
      ]
     },
     "metadata": {},
     "output_type": "display_data"
    },
    {
     "name": "stdout",
     "output_type": "stream",
     "text": [
      "\n"
     ]
    }
   ],
   "source": [
    "# for i in tqdm.tqdm_notebook(range(df_prod.shape[0])):\n",
    "#     coord = [df_prod[['X', 'Y']].iloc[i].values]\n",
    "#     dists, inds = tree_oil.query(coord, k=10)\n",
    "\n",
    "#     date = datetime.date(year = df_prod.iloc[i]['PERIODYR'],\n",
    "#                         month = df_prod.iloc[i]['PERIODMNTH'], \n",
    "#                         day = 15)  \n",
    "#     before_date = add_months(date, -1)\n",
    "#     after_date = add_months(date, 1)\n",
    "    \n",
    "#     counter = 0\n",
    "#     val = 0\n",
    "#     for col in ['OIL_PRPH', 'OIL_PR17', 'OIL_PH18', 'OIL_CPI', 'OIL_CPI_PH', 'OIL_CPI_SS', 'OIL_WAX']:\n",
    "#         for ind in inds[0]:\n",
    "#             x_oil, y_oil = coords_oil['WH_LONG'].iloc[ind], coords_oil['WH_LAT'].iloc[ind]\n",
    "#             val_curr = df_oil[(df_oil['WH_LONG'] == x_oil) & (df_oil['WH_LAT'] == y_oil) & (\n",
    "#                 df_oil['SH_CDATE'] > before_date) & (df_oil['SH_CDATE'] < after_date)][col]\n",
    "\n",
    "#             #print(df_train[(df_train['WH_LONG'] == x_gas) & (df_train['WH_LAT'] == y_gas)]['SH_CDATE'])\n",
    "#             if val_curr.shape[0] > 0:\n",
    "#                 val += val_curr.values.mean()\n",
    "#             if counter > 4:\n",
    "#                 val /= counter\n",
    "#                 break\n",
    "#         if val > 0: \n",
    "#             df_prod[col].iloc[i] = val"
   ]
  },
  {
   "cell_type": "code",
   "execution_count": 137,
   "metadata": {},
   "outputs": [],
   "source": [
    "df_prod['TOC'] = None\n",
    "df_prod['REV_TOTS1'] = None\n",
    "df_prod['REV_TOTS2'] = None\n",
    "df_prod['REV_TOTS3'] = None\n",
    "df_prod['REV_TMAX'] = None\n",
    "df_prod['H_INDEX'] = None\n",
    "df_prod['O_INDEX'] = None\n",
    "df_prod['P_INDEX'] = None"
   ]
  },
  {
   "cell_type": "code",
   "execution_count": 138,
   "metadata": {},
   "outputs": [
    {
     "data": {
      "application/vnd.jupyter.widget-view+json": {
       "model_id": "9ef0beb7d5594e17997ea65aa1dc4b65",
       "version_major": 2,
       "version_minor": 0
      },
      "text/plain": [
       "HBox(children=(IntProgress(value=0, max=10478), HTML(value='')))"
      ]
     },
     "metadata": {},
     "output_type": "display_data"
    },
    {
     "name": "stdout",
     "output_type": "stream",
     "text": [
      "\n"
     ]
    }
   ],
   "source": [
    "for i in tqdm.tqdm_notebook(range(df_prod.shape[0])):\n",
    "    coord = [df_prod[['X', 'Y']].iloc[i].values]\n",
    "    dists, inds = tree_rock.query(coord, k=10)\n",
    "    for col in ['TOC', 'REV_TOTS1', 'REV_TOTS2', 'REV_TOTS3', 'REV_TMAX', 'H_INDEX', 'O_INDEX', 'P_INDEX']:\n",
    "        counter = 0\n",
    "        val = 0\n",
    "        for ind in inds[0]:\n",
    "            x_rock, y_rock = coords_rock['WH_LONG'].iloc[ind], coords_rock['WH_LAT'].iloc[ind]\n",
    "            val_curr = df_rock[(df_rock['WH_LONG'] == x_rock) & (df_rock['WH_LAT'] == y_rock)][col]\n",
    "            \n",
    "            if val_curr.shape[0] > 0:\n",
    "                val += val_curr.values.mean()\n",
    "                break\n",
    "        if val > 0: \n",
    "            df_prod[col].iloc[i] = val"
   ]
  },
  {
   "cell_type": "code",
   "execution_count": 139,
   "metadata": {},
   "outputs": [],
   "source": [
    "df_prod.to_excel('filled.xlsx', index=False)"
   ]
  },
  {
   "cell_type": "code",
   "execution_count": null,
   "metadata": {},
   "outputs": [],
   "source": []
  },
  {
   "cell_type": "code",
   "execution_count": null,
   "metadata": {},
   "outputs": [],
   "source": []
  },
  {
   "cell_type": "code",
   "execution_count": null,
   "metadata": {},
   "outputs": [],
   "source": []
  },
  {
   "cell_type": "code",
   "execution_count": null,
   "metadata": {},
   "outputs": [],
   "source": []
  },
  {
   "cell_type": "code",
   "execution_count": 82,
   "metadata": {
    "ExecuteTime": {
     "end_time": "2019-12-14T17:00:22.364987Z",
     "start_time": "2019-12-14T17:00:22.356350Z"
    }
   },
   "outputs": [
    {
     "data": {
      "text/plain": [
       "[array([-1.46075907, 58.17926198])]"
      ]
     },
     "execution_count": 82,
     "metadata": {},
     "output_type": "execute_result"
    }
   ],
   "source": [
    "coord"
   ]
  },
  {
   "cell_type": "code",
   "execution_count": 113,
   "metadata": {},
   "outputs": [],
   "source": [
    "df_prod['GAS_C1'].iloc[0] = "
   ]
  },
  {
   "cell_type": "code",
   "execution_count": 115,
   "metadata": {},
   "outputs": [
    {
     "data": {
      "text/plain": [
       "0              1\n",
       "63          80.7\n",
       "64          80.7\n",
       "156         79.6\n",
       "157         79.6\n",
       "          ...   \n",
       "11706     154.48\n",
       "11707       73.9\n",
       "11918       80.7\n",
       "11919       80.7\n",
       "11999    94.9242\n",
       "Name: GAS_C1, Length: 343, dtype: object"
      ]
     },
     "execution_count": 115,
     "metadata": {},
     "output_type": "execute_result"
    }
   ],
   "source": [
    "df_prod['GAS_C1'].dropna()"
   ]
  },
  {
   "cell_type": "code",
   "execution_count": null,
   "metadata": {},
   "outputs": [],
   "source": []
  }
 ],
 "metadata": {
  "hide_input": false,
  "kernelspec": {
   "display_name": "Python 3",
   "language": "python",
   "name": "python3"
  },
  "language_info": {
   "codemirror_mode": {
    "name": "ipython",
    "version": 3
   },
   "file_extension": ".py",
   "mimetype": "text/x-python",
   "name": "python",
   "nbconvert_exporter": "python",
   "pygments_lexer": "ipython3",
   "version": "3.7.4"
  }
 },
 "nbformat": 4,
 "nbformat_minor": 2
}
